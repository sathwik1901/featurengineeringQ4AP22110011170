{
  "nbformat": 4,
  "nbformat_minor": 0,
  "metadata": {
    "colab": {
      "provenance": []
    },
    "kernelspec": {
      "name": "python3",
      "display_name": "Python 3"
    },
    "language_info": {
      "name": "python"
    }
  },
  "cells": [
    {
      "cell_type": "code",
      "execution_count": null,
      "metadata": {
        "id": "tBLErg_gRPq1",
        "outputId": "23c6e5fd-f284-442d-d7f6-d5feb44904d6",
        "colab": {
          "base_uri": "https://localhost:8080/"
        }
      },
      "outputs": [
        {
          "output_type": "stream",
          "name": "stdout",
          "text": [
            "Vector 1: [2.3 4.5 6.1 8.4 7.8]\n",
            "Vector 2: [1.5 2.8 3.9 5.  4.6]\n",
            "Correlation between the vectors: 0.9972614425720621\n"
          ]
        }
      ],
      "source": [
        "import numpy as np\n",
        "\n",
        "vector1 = np.array([2.3, 4.5, 6.1, 8.4, 7.8])\n",
        "vector2 = np.array([1.5, 2.8, 3.9, 5.0, 4.6])\n",
        "correlation = np.corrcoef(vector1, vector2)[0, 1]\n",
        "\n",
        "print(\"Vector 1:\", vector1)\n",
        "print(\"Vector 2:\", vector2)\n",
        "print(\"Correlation between the vectors:\", correlation)\n"
      ]
    }
  ]
}